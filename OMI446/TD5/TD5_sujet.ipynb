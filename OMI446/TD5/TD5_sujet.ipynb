{
 "cells": [
  {
   "cell_type": "markdown",
   "metadata": {},
   "source": [
    "# TD3 : graphes et l'algorithme PageRank de Google\n",
    "Cours de **Physique Statistique - OMI 446**, professeur: *Michael Benzaquen*.\n",
    "\n",
    "Nous allons ici faire la partie pratique du TD : un premier exercice sur un graphe simple avant de passer au calcul du PageRank du graphe des aéroports étatsuniens."
   ]
  },
  {
   "cell_type": "code",
   "execution_count": 1,
   "metadata": {},
   "outputs": [],
   "source": [
    "#importation des packages nécessaires \n",
    "import numpy as np \n",
    "import pandas as pd \n",
    "import networkx as nx \n",
    "import matplotlib.pyplot as plt\n",
    "%matplotlib inline"
   ]
  },
  {
   "cell_type": "markdown",
   "metadata": {},
   "source": [
    "Nous créons d'abord un dictionnaire qui servira de liste d'adjacence. Dans Python, un dictionnaire associe à une \"key\" (mot-clef) une valeur qui peut être un objet quelconque. Ici `neighbors[noeud]` contient la liste des noeuds adjacents."
   ]
  },
  {
   "cell_type": "code",
   "execution_count": 2,
   "metadata": {},
   "outputs": [],
   "source": [
    "\n",
    "neighbors = {}\n",
    "neighbors['a'] = ['c','b']\n",
    "neighbors['b'] = ['a','c']\n",
    "neighbors['c'] = ['d']\n",
    "neighbors['d'] = ['c', 'e']\n",
    "neighbors['e'] = ['c']\n",
    "neighbors['f'] = ['a','g']\n",
    "neighbors['g'] = ['a']"
   ]
  },
  {
   "cell_type": "markdown",
   "metadata": {},
   "source": [
    "La fonction `dict.keys()` permet d'accéder à la liste des mots-clefs clefs du dictionnaire."
   ]
  },
  {
   "cell_type": "code",
   "execution_count": 3,
   "metadata": {},
   "outputs": [
    {
     "data": {
      "text/plain": [
       "dict_keys(['a', 'b', 'c', 'd', 'e', 'f', 'g'])"
      ]
     },
     "execution_count": 3,
     "metadata": {},
     "output_type": "execute_result"
    }
   ],
   "source": [
    "neighbors.keys()"
   ]
  },
  {
   "cell_type": "markdown",
   "metadata": {},
   "source": [
    "La fonction `dict.items()` permet d'accéder à un itérateur (key,value)."
   ]
  },
  {
   "cell_type": "code",
   "execution_count": 4,
   "metadata": {},
   "outputs": [
    {
     "name": "stdout",
     "output_type": "stream",
     "text": [
      "La liste des voisins de a est ['c', 'b']\n",
      "La liste des voisins de b est ['a', 'c']\n",
      "La liste des voisins de c est ['d']\n",
      "La liste des voisins de d est ['c', 'e']\n",
      "La liste des voisins de e est ['c']\n",
      "La liste des voisins de f est ['a', 'g']\n",
      "La liste des voisins de g est ['a']\n",
      "Les voisins de a sont c,b,\n",
      "Les voisins de b sont a,c,\n",
      "Les voisins de c sont d,\n",
      "Les voisins de d sont c,e,\n",
      "Les voisins de e sont c,\n",
      "Les voisins de f sont a,g,\n",
      "Les voisins de g sont a,\n"
     ]
    }
   ],
   "source": [
    "for node, out_list in neighbors.items():\n",
    "    print(\"La liste des voisins de\", node, \"est\", out_list)\n",
    "    \n",
    "#on peut encore itérer à l'intérieur de la liste des voisins\n",
    "for node, out_list in neighbors.items():\n",
    "    print(\"Les voisins de\", node, \"sont\", end=\" \")\n",
    "    for out in out_list:\n",
    "        print(out, end=\",\")\n",
    "    print(\"\")"
   ]
  },
  {
   "cell_type": "markdown",
   "metadata": {},
   "source": [
    "Pour créer un graphe dirigé vide avec `networkx` on utilise le constructeur `nx.DiGraph()`.\n",
    "On peut ensuite ajouter des liens $i\\rightarrow j$ avec la fonction `nx.add_edge(i,j)`."
   ]
  },
  {
   "cell_type": "code",
   "execution_count": 5,
   "metadata": {},
   "outputs": [],
   "source": [
    "graphe_test = nx.DiGraph()\n",
    "graphe_test.add_edge('i','j')"
   ]
  },
  {
   "cell_type": "markdown",
   "metadata": {},
   "source": [
    "On peut ensuite dessiner le graphe de la manière suivante:\n",
    "1. On demande à networkx de calculer la position des noeuds avec `pos = nx.spring_layout(graphe)` ou `pos = nx.circular_layout(graphe)`\n",
    "2. On dessine ensuite le graphe avec ces positions `nx.draw(graphe, pos=pos)`\n",
    "3. On rajoute les étiquettes des noeuds sur les bonnes positions avec `nx.draw_networkx_labels(graphe, pos=pos)`"
   ]
  },
  {
   "cell_type": "code",
   "execution_count": 6,
   "metadata": {},
   "outputs": [
    {
     "data": {
      "image/png": "[encoded data removed]",
      "text/plain": [
       "<Figure size 432x288 with 1 Axes>"
      ]
     },
     "metadata": {},
     "output_type": "display_data"
    }
   ],
   "source": [
    "pos = nx.spring_layout(graphe_test)\n",
    "nx.draw(graphe_test, pos=pos)\n",
    "nx.draw_networkx_labels(graphe_test, pos=pos);"
   ]
  },
  {
   "cell_type": "markdown",
   "metadata": {},
   "source": [
    "On peut également extraire une matrice d'adjacence en utilisant la fonction `nx.to_numpy_matrix(graphe)`. \n",
    "**REMARQUE** : `networkx` utilise une autre convention pour les matrices d'adjacence. Dans notre convention, $A_{ij}=1$ indique un lien $j\\rightarrow i$, alors qu'il s'agit d'un lien $i\\rightarrow j$ dans `networkx`. Il est donc nécessaire de transposer la matrice pour avoir la bonne convention à l'aide de la fonction `np.transpose(matrix)`.\n",
    "\n",
    "Pour vérifier l'ordre dans lequel `networkx` renvoie la matrice, il convient de printer la liste des noeuds du graphe avec `graphe.nodes()`."
   ]
  },
  {
   "cell_type": "code",
   "execution_count": 11,
   "metadata": {},
   "outputs": [
    {
     "name": "stdout",
     "output_type": "stream",
     "text": [
      "[[0. 1.]\n",
      " [0. 0.]]\n",
      "['i', 'j']\n"
     ]
    }
   ],
   "source": [
    "matrice_adjacence_test = nx.to_numpy_matrix(graphe_test)\n",
    "print(matrice_adjacence_test)\n",
    "\n",
    "print(graphe_test.nodes())"
   ]
  },
  {
   "cell_type": "markdown",
   "metadata": {},
   "source": [
    "Nous allons maintenant créer le graphe `G` dans la figure du sujet à l'aide du dictionnaire `neighbors`.\n",
    "\n",
    "## Question 2.1. Création du graphe\n",
    "\n",
    "En utilisant les aides précédentes, compléter le code suivant"
   ]
  },
  {
   "cell_type": "code",
   "execution_count": 8,
   "metadata": {},
   "outputs": [],
   "source": [
    "G = nx.DiGraph()\n",
    "for node, out_list in neighbors.items():\n",
    "    for out_node in out_list:\n",
    "        G.add_edge(node, out_node)\n"
   ]
  },
  {
   "cell_type": "markdown",
   "metadata": {},
   "source": [
    "Nous allons ensuite associer à la variable `B` la matrice d'adjacence du graphe"
   ]
  },
  {
   "cell_type": "code",
   "execution_count": 12,
   "metadata": {},
   "outputs": [],
   "source": [
    "B = nx.to_numpy_matrix(G)"
   ]
  },
  {
   "cell_type": "code",
   "execution_count": 13,
   "metadata": {},
   "outputs": [
    {
     "name": "stdout",
     "output_type": "stream",
     "text": [
      "[[0. 1. 1. 0. 0. 0. 0.]\n",
      " [0. 0. 0. 1. 0. 0. 0.]\n",
      " [1. 1. 0. 0. 0. 0. 0.]\n",
      " [0. 1. 0. 0. 1. 0. 0.]\n",
      " [0. 1. 0. 0. 0. 0. 0.]\n",
      " [1. 0. 0. 0. 0. 0. 1.]\n",
      " [1. 0. 0. 0. 0. 0. 0.]]\n",
      "['a', 'c', 'b', 'd', 'e', 'f', 'g']\n"
     ]
    }
   ],
   "source": [
    "#on vérifie\n",
    "print(B)\n",
    "print(G.nodes())"
   ]
  },
  {
   "cell_type": "code",
   "execution_count": 14,
   "metadata": {},
   "outputs": [],
   "source": [
    "#on stocke la taille du graphe\n",
    "N_nodes = len(G.nodes())"
   ]
  },
  {
   "cell_type": "markdown",
   "metadata": {},
   "source": [
    "Nous créons d'abord pour nous aider un vecteur `out_degrees` de taille `N_nodes` tel que `out_degrees[i]` contient $\\sum_{k=1}^N A_{ki}$ "
   ]
  },
  {
   "cell_type": "code",
   "execution_count": 17,
   "metadata": {},
   "outputs": [
    {
     "name": "stdout",
     "output_type": "stream",
     "text": [
      "[2. 1. 2. 2. 1. 2. 1.]\n"
     ]
    }
   ],
   "source": [
    "out_degrees = np.zeros(N_nodes)\n",
    "\n",
    "for i in range(N_nodes):\n",
    "    for k in range(N_nodes):\n",
    "        out_degrees[i] += B[i,k]\n",
    "print(out_degrees)"
   ]
  },
  {
   "cell_type": "markdown",
   "metadata": {},
   "source": [
    "## Question 2.2. Calcul de la matrice de transition\n",
    "\n",
    "Compléter le code"
   ]
  },
  {
   "cell_type": "code",
   "execution_count": null,
   "metadata": {},
   "outputs": [],
   "source": [
    "transition_mat = np.zeros((N_nodes, N_nodes))\n",
    "for j in range(N_nodes):\n",
    "    if out_degrees[j] != 0 :\n",
    "        for i in range(N_nodes):\n",
    "            #A COMPLETER"
   ]
  },
  {
   "cell_type": "markdown",
   "metadata": {},
   "source": [
    "On vérifie à nouveau"
   ]
  },
  {
   "cell_type": "code",
   "execution_count": null,
   "metadata": {},
   "outputs": [],
   "source": [
    "print(transition_mat)"
   ]
  },
  {
   "cell_type": "markdown",
   "metadata": {},
   "source": [
    "## Question 2.4. Application de l'algorithme PageRank\n",
    "\n",
    "Remarque: la fonction `np.dot(A,B)` permet de calculer le produit (matriciel) $AB$, y compris lorsque $B$ est un vecteur. \n",
    "\n",
    "La fonction `np.ones(N)` renvoie le vecteur $(1,1,\\ldots,1)\\in\\mathbb{R}^N$"
   ]
  },
  {
   "cell_type": "code",
   "execution_count": null,
   "metadata": {},
   "outputs": [],
   "source": [
    "A_example = np.array([[1,2],[3,4]])\n",
    "B_example = np.array([1,2])\n",
    "\n",
    "print(A_example)\n",
    "print(B_example)\n",
    "print(\"Resultat du produit\", end=\" \")\n",
    "print(np.dot(A_example, B_example))"
   ]
  },
  {
   "cell_type": "code",
   "execution_count": null,
   "metadata": {},
   "outputs": [],
   "source": [
    "v = np.ones(N_nodes) / N_nodes\n",
    "print(v)\n",
    "\n",
    "print(np.ones(4)/4)"
   ]
  },
  {
   "cell_type": "code",
   "execution_count": null,
   "metadata": {},
   "outputs": [],
   "source": [
    "### écrire l'algorithme PageRank avec d=0.85 et P_0 = (1/N,...,1/N)\n",
    "\n",
    "P = ## A COMPLETER\n",
    "d = 0.85\n",
    "n_its = 100\n",
    "\n",
    "for i in range(n_its):\n",
    "    ## A COMPLETER\n",
    "\n"
   ]
  },
  {
   "cell_type": "markdown",
   "metadata": {},
   "source": [
    "Nous créons ensuite un DataFrame pour visualiser le PageRank de chaque noeud"
   ]
  },
  {
   "cell_type": "code",
   "execution_count": null,
   "metadata": {},
   "outputs": [],
   "source": [
    "G_nodes = list(G.nodes())\n",
    "G_pagerank = pd.DataFrame(list(zip(G_nodes, P)), columns=['Node','PageRank'])\n",
    "G_pagerank"
   ]
  },
  {
   "cell_type": "markdown",
   "metadata": {},
   "source": [
    "On rajoute des informations supplémentaires, comme le *in-degree* (nombre de liens entrants) et le *out-degree* de chaque noeud"
   ]
  },
  {
   "cell_type": "code",
   "execution_count": null,
   "metadata": {},
   "outputs": [],
   "source": [
    "G_pagerank['In_degree'] = G_pagerank.Node.apply(lambda x: G.in_degree()[x])\n",
    "G_pagerank['Out_degree'] = G_pagerank.Node.apply(lambda x: G.out_degree()[x])"
   ]
  },
  {
   "cell_type": "code",
   "execution_count": null,
   "metadata": {},
   "outputs": [],
   "source": [
    "G_pagerank"
   ]
  },
  {
   "cell_type": "markdown",
   "metadata": {},
   "source": [
    "On peut également dessiner le graphe comme précédemment"
   ]
  },
  {
   "cell_type": "code",
   "execution_count": null,
   "metadata": {},
   "outputs": [],
   "source": [
    "pos = nx.circular_layout(G)\n",
    "\n",
    "nx.draw(G, pos)\n",
    "nx.draw_networkx_labels(G,pos);"
   ]
  },
  {
   "cell_type": "markdown",
   "metadata": {},
   "source": [
    "## Partie 3 : Application au graphe des aéroports\n",
    "\n",
    "Nous chargeons d'abord les données : il s'agit d'un tableau avec l'aéroport d'origine, l'aéroport de destination et le nombre de vols entre eux"
   ]
  },
  {
   "cell_type": "code",
   "execution_count": 18,
   "metadata": {},
   "outputs": [
    {
     "data": {
      "text/html": [
       "<div>\n",
       "<style scoped>\n",
       "    .dataframe tbody tr th:only-of-type {\n",
       "        vertical-align: middle;\n",
       "    }\n",
       "\n",
       "    .dataframe tbody tr th {\n",
       "        vertical-align: top;\n",
       "    }\n",
       "\n",
       "    .dataframe thead th {\n",
       "        text-align: right;\n",
       "    }\n",
       "</style>\n",
       "<table border=\"1\" class=\"dataframe\">\n",
       "  <thead>\n",
       "    <tr style=\"text-align: right;\">\n",
       "      <th></th>\n",
       "      <th>ORIGIN</th>\n",
       "      <th>DEST</th>\n",
       "      <th>COUNT</th>\n",
       "    </tr>\n",
       "  </thead>\n",
       "  <tbody>\n",
       "    <tr>\n",
       "      <th>0</th>\n",
       "      <td>05A</td>\n",
       "      <td>ARC</td>\n",
       "      <td>1</td>\n",
       "    </tr>\n",
       "    <tr>\n",
       "      <th>1</th>\n",
       "      <td>05A</td>\n",
       "      <td>CXF</td>\n",
       "      <td>2</td>\n",
       "    </tr>\n",
       "    <tr>\n",
       "      <th>2</th>\n",
       "      <td>05A</td>\n",
       "      <td>FAI</td>\n",
       "      <td>13</td>\n",
       "    </tr>\n",
       "    <tr>\n",
       "      <th>3</th>\n",
       "      <td>05A</td>\n",
       "      <td>WCR</td>\n",
       "      <td>1</td>\n",
       "    </tr>\n",
       "    <tr>\n",
       "      <th>4</th>\n",
       "      <td>09A</td>\n",
       "      <td>ADQ</td>\n",
       "      <td>1</td>\n",
       "    </tr>\n",
       "    <tr>\n",
       "      <th>5</th>\n",
       "      <td>1G4</td>\n",
       "      <td>1G4</td>\n",
       "      <td>9</td>\n",
       "    </tr>\n",
       "    <tr>\n",
       "      <th>6</th>\n",
       "      <td>1G4</td>\n",
       "      <td>BLD</td>\n",
       "      <td>9</td>\n",
       "    </tr>\n",
       "    <tr>\n",
       "      <th>7</th>\n",
       "      <td>1G4</td>\n",
       "      <td>DQS</td>\n",
       "      <td>6</td>\n",
       "    </tr>\n",
       "    <tr>\n",
       "      <th>8</th>\n",
       "      <td>1G4</td>\n",
       "      <td>GCN</td>\n",
       "      <td>5</td>\n",
       "    </tr>\n",
       "    <tr>\n",
       "      <th>9</th>\n",
       "      <td>1G4</td>\n",
       "      <td>KNB</td>\n",
       "      <td>4</td>\n",
       "    </tr>\n",
       "  </tbody>\n",
       "</table>\n",
       "</div>"
      ],
      "text/plain": [
       "  ORIGIN DEST  COUNT\n",
       "0    05A  ARC      1\n",
       "1    05A  CXF      2\n",
       "2    05A  FAI     13\n",
       "3    05A  WCR      1\n",
       "4    09A  ADQ      1\n",
       "5    1G4  1G4      9\n",
       "6    1G4  BLD      9\n",
       "7    1G4  DQS      6\n",
       "8    1G4  GCN      5\n",
       "9    1G4  KNB      4"
      ]
     },
     "execution_count": 18,
     "metadata": {},
     "output_type": "execute_result"
    }
   ],
   "source": [
    "df = pd.read_csv('data_airports.csv')\n",
    "df = df.drop(columns=df.columns[0])\n",
    "df.head(10)"
   ]
  },
  {
   "cell_type": "markdown",
   "metadata": {},
   "source": [
    "Pour que `networkx` comprenne que le poids de chaque lien est donné par `COUNT` nous allons renommer cette colonne\n"
   ]
  },
  {
   "cell_type": "code",
   "execution_count": 19,
   "metadata": {},
   "outputs": [
    {
     "data": {
      "text/html": [
       "<div>\n",
       "<style scoped>\n",
       "    .dataframe tbody tr th:only-of-type {\n",
       "        vertical-align: middle;\n",
       "    }\n",
       "\n",
       "    .dataframe tbody tr th {\n",
       "        vertical-align: top;\n",
       "    }\n",
       "\n",
       "    .dataframe thead th {\n",
       "        text-align: right;\n",
       "    }\n",
       "</style>\n",
       "<table border=\"1\" class=\"dataframe\">\n",
       "  <thead>\n",
       "    <tr style=\"text-align: right;\">\n",
       "      <th></th>\n",
       "      <th>ORIGIN</th>\n",
       "      <th>DEST</th>\n",
       "      <th>weight</th>\n",
       "    </tr>\n",
       "  </thead>\n",
       "  <tbody>\n",
       "    <tr>\n",
       "      <th>0</th>\n",
       "      <td>05A</td>\n",
       "      <td>ARC</td>\n",
       "      <td>1</td>\n",
       "    </tr>\n",
       "    <tr>\n",
       "      <th>1</th>\n",
       "      <td>05A</td>\n",
       "      <td>CXF</td>\n",
       "      <td>2</td>\n",
       "    </tr>\n",
       "    <tr>\n",
       "      <th>2</th>\n",
       "      <td>05A</td>\n",
       "      <td>FAI</td>\n",
       "      <td>13</td>\n",
       "    </tr>\n",
       "    <tr>\n",
       "      <th>3</th>\n",
       "      <td>05A</td>\n",
       "      <td>WCR</td>\n",
       "      <td>1</td>\n",
       "    </tr>\n",
       "    <tr>\n",
       "      <th>4</th>\n",
       "      <td>09A</td>\n",
       "      <td>ADQ</td>\n",
       "      <td>1</td>\n",
       "    </tr>\n",
       "    <tr>\n",
       "      <th>5</th>\n",
       "      <td>1G4</td>\n",
       "      <td>1G4</td>\n",
       "      <td>9</td>\n",
       "    </tr>\n",
       "    <tr>\n",
       "      <th>6</th>\n",
       "      <td>1G4</td>\n",
       "      <td>BLD</td>\n",
       "      <td>9</td>\n",
       "    </tr>\n",
       "    <tr>\n",
       "      <th>7</th>\n",
       "      <td>1G4</td>\n",
       "      <td>DQS</td>\n",
       "      <td>6</td>\n",
       "    </tr>\n",
       "    <tr>\n",
       "      <th>8</th>\n",
       "      <td>1G4</td>\n",
       "      <td>GCN</td>\n",
       "      <td>5</td>\n",
       "    </tr>\n",
       "    <tr>\n",
       "      <th>9</th>\n",
       "      <td>1G4</td>\n",
       "      <td>KNB</td>\n",
       "      <td>4</td>\n",
       "    </tr>\n",
       "  </tbody>\n",
       "</table>\n",
       "</div>"
      ],
      "text/plain": [
       "  ORIGIN DEST  weight\n",
       "0    05A  ARC       1\n",
       "1    05A  CXF       2\n",
       "2    05A  FAI      13\n",
       "3    05A  WCR       1\n",
       "4    09A  ADQ       1\n",
       "5    1G4  1G4       9\n",
       "6    1G4  BLD       9\n",
       "7    1G4  DQS       6\n",
       "8    1G4  GCN       5\n",
       "9    1G4  KNB       4"
      ]
     },
     "execution_count": 19,
     "metadata": {},
     "output_type": "execute_result"
    }
   ],
   "source": [
    "df = df.rename(columns={'COUNT':'weight'} )\n",
    "df.head(10)"
   ]
  },
  {
   "cell_type": "markdown",
   "metadata": {},
   "source": [
    "Nous créons ensuite le graphe des aéroports avec la fonction `networkx.from_pandas_edgelist` qui prend en argument un `pd.DataFrame`, ainsi que `airport_list` qui contiendra la liste des noeuds du graphe (liste des aéroports) et `N_airports` qui est le nombre de noeuds.\n"
   ]
  },
  {
   "cell_type": "code",
   "execution_count": 20,
   "metadata": {},
   "outputs": [],
   "source": [
    "airport_graph = nx.from_pandas_edgelist(df, source='ORIGIN', target='DEST', edge_attr='weight',\n",
    "                                         create_using=nx.DiGraph())\n",
    "airports_list = list(airport_graph.nodes())\n",
    "N_airports = len(airports_list)"
   ]
  },
  {
   "cell_type": "markdown",
   "metadata": {},
   "source": [
    "## Question 3.1 Création de la matrice de transition\n",
    "\n",
    "Comme pour le graphe précédent, créer la matrice de transition associée au graphe.\n",
    "On appelera `A` la matrice d'adjacence et `T` la matrice de transition.\n",
    " \n",
    "On pourra d'abord créer un vecteur `airport_out_degrees` dont la i-ème valeur contiendra la somme $\\sum_{k=1}^N A_{ki}$ "
   ]
  },
  {
   "cell_type": "code",
   "execution_count": 23,
   "metadata": {},
   "outputs": [],
   "source": [
    "A = nx.to_numpy_matrix(airport_graph)\n",
    "aiports_out_degrees = np.zeros(N_airports)\n",
    "\n",
    "for i in range(N_airports):\n",
    "    for k in range(N_airports):\n",
    "        aiports_out_degrees[i] += A[i,k]"
   ]
  },
  {
   "cell_type": "markdown",
   "metadata": {},
   "source": [
    "## Question 3.2 calcul du PageRank\n",
    "\n",
    "Calculez le PageRank du graphe des aéroports en le stockant dans un vecteur `X` dont on prendra la valeur initiale `X=np.ones(N_airports)/N_airports`, en faisant $100$ itérations et en prenant `d=0.85`"
   ]
  },
  {
   "cell_type": "code",
   "execution_count": null,
   "metadata": {},
   "outputs": [],
   "source": [
    "## A COMPLETER"
   ]
  },
  {
   "cell_type": "markdown",
   "metadata": {},
   "source": [
    "Créer le DataFrame `PageRank_df` pour visualiser les données. Représentez les 10 premiers aéroports de la liste."
   ]
  },
  {
   "cell_type": "code",
   "execution_count": null,
   "metadata": {},
   "outputs": [],
   "source": [
    "### A COMPLETER"
   ]
  },
  {
   "cell_type": "markdown",
   "metadata": {},
   "source": [
    " Trier les aéroports par PageRank décroissant et visualiser les 10 premiers"
   ]
  },
  {
   "cell_type": "code",
   "execution_count": null,
   "metadata": {},
   "outputs": [],
   "source": [
    "#A COMPLETER"
   ]
  },
  {
   "cell_type": "markdown",
   "metadata": {},
   "source": [
    "## Fin et remarques\n",
    "\n",
    "On peut se demander, pourquoi l'aéroport d'Anchorage est si important ? La réponse:\n",
    "\n",
    "*Alaska is a sparsely populated, isolated region with a disproportionately large, for its population size, number of airports. Most Alaskan airports have connections only to other Alaskan airports. This fact makes sense geographically. However, distance-wise, it also would make sense for some Alaskan airports to be connected to airports in Canada’s Northern Territories. These connections are, however, absent. Instead, a few Alaskan airports, singularly Anchorage, are connected to the continental U.S. The reason is clear: the Alaskan population needs to be connected to the political centers, which are located in the continental U.S., whereas there are political constraints making it difficult to have connections to cities in Canada, even to ones that are close geographically ([Guimera and Amaral, 2004]). It is now obvious why Anchorage’s centrality is so large. Indeed, the existence of nodes with anomalous centrality is related to the existence of regions with a high density of airports but few connections to the outside. The degree-betweenness anomaly is therefore ultimately related to the existence of communities in the network.*\n",
    "\n",
    "\n",
    "Pour montrer cela, nous allons directement utiliser les fonctions de `networkx` pour calculer une autre mesure de l'importance d'un noeud dans le graphe, la *betweenness centrality*, qui mesure à quel point un noeud $i$ est central dans le graphe : avec cette mesure, un noeud $i$ a une betweenness elevée si pour deux noeuds quelconques $j$ et $k$ il est nécessaire de passer par $i$ pour les relier. "
   ]
  },
  {
   "cell_type": "code",
   "execution_count": 24,
   "metadata": {},
   "outputs": [],
   "source": [
    "betweenness = nx.betweenness_centrality(airport_graph)"
   ]
  },
  {
   "cell_type": "code",
   "execution_count": 25,
   "metadata": {},
   "outputs": [
    {
     "ename": "NameError",
     "evalue": "name 'PageRank_df' is not defined",
     "output_type": "error",
     "traceback": [
      "\u001b[0;31m---------------------------------------------------------------------------\u001b[0m",
      "\u001b[0;31mNameError\u001b[0m                                 Traceback (most recent call last)",
      "\u001b[0;32m<ipython-input-25-7c1ca3bd8eb5>\u001b[0m in \u001b[0;36m<module>\u001b[0;34m\u001b[0m\n\u001b[0;32m----> 1\u001b[0;31m \u001b[0mPageRank_df\u001b[0m\u001b[0;34m[\u001b[0m\u001b[0;34m'Betweenness'\u001b[0m\u001b[0;34m]\u001b[0m \u001b[0;34m=\u001b[0m \u001b[0mPageRank_df\u001b[0m\u001b[0;34m.\u001b[0m\u001b[0mAirport\u001b[0m\u001b[0;34m.\u001b[0m\u001b[0mapply\u001b[0m\u001b[0;34m(\u001b[0m\u001b[0;32mlambda\u001b[0m \u001b[0mx\u001b[0m\u001b[0;34m:\u001b[0m \u001b[0mbetweenness\u001b[0m\u001b[0;34m[\u001b[0m\u001b[0mx\u001b[0m\u001b[0;34m]\u001b[0m\u001b[0;34m)\u001b[0m\u001b[0;34m\u001b[0m\u001b[0;34m\u001b[0m\u001b[0m\n\u001b[0m",
      "\u001b[0;31mNameError\u001b[0m: name 'PageRank_df' is not defined"
     ]
    }
   ],
   "source": [
    "PageRank_df['Betweenness'] = PageRank_df.Airport.apply(lambda x: betweenness[x])"
   ]
  },
  {
   "cell_type": "markdown",
   "metadata": {},
   "source": [
    "On peut alors remarquer que ANC a une betweenness remarquablement élevée ! "
   ]
  },
  {
   "cell_type": "code",
   "execution_count": null,
   "metadata": {},
   "outputs": [],
   "source": [
    "PageRank_df.head(10)"
   ]
  },
  {
   "cell_type": "markdown",
   "metadata": {
    "collapsed": true
   },
   "source": [
    "On pourra aussi tracer le sous-graphe des $40$ aéroports avec le PageRank le plus élevé en prenant le sous-graphe correspondant."
   ]
  },
  {
   "cell_type": "code",
   "execution_count": null,
   "metadata": {},
   "outputs": [],
   "source": [
    "top_40_airports = PageRank_df.head(40).Airport\n",
    "k = airport_graph.subgraph(top_40_airports)\n",
    "\n",
    "\n",
    "plt.figure(figsize=(10,10))\n",
    "pos = nx.spring_layout(k)\n",
    "nx.draw(k, pos=pos, edge_color='blue',node_size=600)\n",
    "nx.draw_networkx_labels(k, pos=pos);"
   ]
  },
  {
   "cell_type": "code",
   "execution_count": null,
   "metadata": {},
   "outputs": [],
   "source": []
  }
 ],
 "metadata": {
  "anaconda-cloud": {},
  "kernelspec": {
   "display_name": "Python 3",
   "language": "python",
   "name": "python3"
  },
  "language_info": {
   "codemirror_mode": {
    "name": "ipython",
    "version": 3
   },
   "file_extension": ".py",
   "mimetype": "text/x-python",
   "name": "python",
   "nbconvert_exporter": "python",
   "pygments_lexer": "ipython3",
   "version": "3.7.3"
  },
  "toc": {
   "base_numbering": 1,
   "nav_menu": {},
   "number_sections": true,
   "sideBar": true,
   "skip_h1_title": false,
   "title_cell": "Table of Contents",
   "title_sidebar": "Contents",
   "toc_cell": false,
   "toc_position": {},
   "toc_section_display": true,
   "toc_window_display": false
  }
 },
 "nbformat": 4,
 "nbformat_minor": 2
}
